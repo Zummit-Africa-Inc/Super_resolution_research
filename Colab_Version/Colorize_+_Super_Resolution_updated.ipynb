{
  "cells": [
    {
      "cell_type": "code",
      "execution_count": null,
      "metadata": {
        "id": "XowU5SANuMH8"
      },
      "outputs": [],
      "source": [
        "!git clone https://github.com/Nneji123/DeOldify.git"
      ]
    },
    {
      "cell_type": "code",
      "execution_count": 2,
      "metadata": {
        "id": "seVMiSKUuqNt"
      },
      "outputs": [],
      "source": [
        "!cd DeOldify/"
      ]
    },
    {
      "cell_type": "code",
      "execution_count": null,
      "metadata": {
        "id": "Cmp4-dsmui58"
      },
      "outputs": [],
      "source": [
        "import os\n",
        "os.chdir(\"/content/DeOldify/\")\n",
        "!pip install -r colab_requirements.txt"
      ]
    },
    {
      "cell_type": "code",
      "execution_count": null,
      "metadata": {
        "id": "yEic-RSQvKQK"
      },
      "outputs": [],
      "source": [
        "!wget https://bin.equinox.io/c/bNyj1mQVY4c/ngrok-v3-stable-linux-amd64.tgz\n",
        "!tar -xvzf ngrok-v3-stable-linux-amd64.tgz\n",
        "!ngrok authtoken 29vr8YhWZ9CDHrUq2kr0CpUA0e8_6ik4hU5GjJZeAYagTH5i4"
      ]
    },
    {
      "cell_type": "code",
      "source": [
        "!mkdir -p /root/.torch/models\n",
        "!mkdir -p /content/DeOldify/models\n",
        "\n",
        "!wget -O /root/.torch/models/vgg16_bn-6c64b313.pth https://download.pytorch.org/models/vgg16_bn-6c64b313.pth\n",
        "\n",
        "!wget -O /root/.torch/models/resnet34-333f7ec4.pth https://download.pytorch.org/models/resnet34-333f7ec4.pth\n",
        "\n",
        "!wget -O /content/DeOldify/models/ColorizeArtistic_gen.pth https://data.deepai.org/deoldify/ColorizeArtistic_gen.pth\n",
        "!wget -O /content/DeOldify/models/ColorizeVideo_gen.pth https://data.deepai.org/deoldify/ColorizeVideo_gen.pth"
      ],
      "metadata": {
        "id": "V27rZ930FwIO"
      },
      "execution_count": null,
      "outputs": []
    },
    {
      "cell_type": "code",
      "execution_count": null,
      "metadata": {
        "id": "BxQ5IkBXuoNj"
      },
      "outputs": [],
      "source": [
        "import os\n",
        "os.chdir(\"/content/DeOldify/\")\n",
        "import uvicorn\n",
        "from fastapi import FastAPI, File, UploadFile, Response\n",
        "from fastapi.responses import StreamingResponse, FileResponse\n",
        "import numpy as np\n",
        "import io\n",
        "from PIL import Image\n",
        "import cv2\n",
        "from deoldify import device\n",
        "from deoldify.device_id import DeviceId\n",
        "#choices:  CPU, GPU0...GPU7\n",
        "device.set(device=DeviceId.GPU0)\n",
        "import torch\n",
        "import fastai\n",
        "from ISR.models import RDN\n",
        "from deoldify.visualize import *\n",
        "import warnings\n",
        "warnings.filterwarnings(\"ignore\", category=UserWarning, message=\".*?Your .*? set is empty.*?\")\n",
        "\n",
        "app = FastAPI()\n",
        "\n",
        "rdn = RDN(weights='noise-cancel')\n",
        "\n",
        "colorizer = get_image_colorizer(artistic=True)\n",
        "\n",
        "\n",
        "@app.get('/')\n",
        "def home():\n",
        "    return {'Title': 'Super Resolution and Colorisation API'}\n",
        "\n",
        "\n",
        "# Endpoint for enhancing resolution and colorization of image\n",
        "@app.post(\"/enhance_and_colorise\")\n",
        "async def root(file: UploadFile = File(...)):\n",
        "\n",
        "    \n",
        "    contents = io.BytesIO(await file.read())\n",
        "    \n",
        "    file_bytes = np.asarray(bytearray(contents.read()), dtype=np.uint8)\n",
        "    \n",
        "    img = cv2.imdecode(file_bytes, cv2.IMREAD_COLOR) \n",
        "    \n",
        "    cv2.imwrite(\"new.jpg\",img)\n",
        "    \n",
        "    sr_img = rdn.predict(img, by_patch_of_size=300)\n",
        "    \n",
        "    res, im_png = cv2.imencode(\".png\", sr_img)\n",
        "    \n",
        "    images = io.BytesIO(im_png.tobytes())\n",
        "\n",
        "    sr2_img = colorizer.get_transformed_image(images, render_factor=35)\n",
        "    \n",
        "    new_img = np.array(sr2_img)\n",
        "    # img = cv2.imdecode(np.array(sr_img), cv2.IMREAD_COLOR)\n",
        "    \n",
        "    res, im2_png = cv2.imencode(\".png\", new_img) \n",
        "\n",
        "    return StreamingResponse(io.BytesIO(im2_png.tobytes()), media_type=\"image/png\")\n",
        "\n",
        "\n",
        "# endpoint for just enhancing the image\n",
        "@app.post(\"/enhance\")\n",
        "async def root(file: UploadFile = File(...)):\n",
        "\n",
        "    # image = load_image_into_numpy_array(await file.read())\n",
        "\n",
        "    contents = io.BytesIO(await file.read())\n",
        "    file_bytes = np.asarray(bytearray(contents.read()), dtype=np.uint8)\n",
        "    img = cv2.imdecode(file_bytes, cv2.IMREAD_COLOR)\n",
        "\n",
        "    sr_img = rdn.predict(img, by_patch_of_size=300)\n",
        "\n",
        "    res, im_png = cv2.imencode(\".png\", sr_img)\n",
        "\n",
        "    return StreamingResponse(io.BytesIO(im_png.tobytes()), media_type=\"image/png\")\n",
        "\n",
        "# endpoint for just colorising the image\n",
        "# Please review this section I may have mixed up something\n",
        "@app.post(\"/colorise\")\n",
        "async def root(file: UploadFile = File(...)):\n",
        "\n",
        "    \n",
        "    contents = io.BytesIO(await file.read())\n",
        "    \n",
        "    file_bytes = np.asarray(bytearray(contents.read()), dtype=np.uint8)\n",
        "    \n",
        "    img = cv2.imdecode(file_bytes, cv2.IMREAD_COLOR) \n",
        "    \n",
        "    cv2.imwrite(\"new.jpg\",img)\n",
        "    \n",
        "    #sr_img = rdn.predict(img, by_patch_of_size=300)\n",
        "    \n",
        "   # res, im_png = cv2.imencode(\".png\", sr_img)\n",
        "    \n",
        "    #images = io.BytesIO(im_png.tobytes())\n",
        "\n",
        "    sr2_img = colorizer.get_transformed_image(\"new.jpg\", render_factor=35)\n",
        "    \n",
        "    new_img = np.array(sr2_img)\n",
        "    # img = cv2.imdecode(np.array(sr_img), cv2.IMREAD_COLOR)\n",
        "    \n",
        "    res, im2_png = cv2.imencode(\".png\", new_img) \n",
        "\n",
        "    return StreamingResponse(io.BytesIO(im2_png.tobytes()), media_type=\"image/png\")\n",
        "\n",
        "\n",
        "\n",
        "\n",
        "\n"
      ]
    },
    {
      "cell_type": "code",
      "execution_count": null,
      "metadata": {
        "id": "ZGUNRnYsvKSz"
      },
      "outputs": [],
      "source": [
        "from colabcode import ColabCode\n",
        "cc = ColabCode(port=18000, code=False)\n",
        "cc.run_app(app=app)"
      ]
    }
  ],
  "metadata": {
    "accelerator": "GPU",
    "colab": {
      "name": "Colorize_+_Super_Resolution_updated.ipynb",
      "provenance": [],
      "collapsed_sections": []
    },
    "gpuClass": "standard",
    "kernelspec": {
      "display_name": "Python 3",
      "name": "python3"
    },
    "language_info": {
      "name": "python"
    }
  },
  "nbformat": 4,
  "nbformat_minor": 0
}